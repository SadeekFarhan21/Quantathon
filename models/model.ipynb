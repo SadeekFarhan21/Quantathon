{
 "cells": [
  {
   "cell_type": "code",
   "execution_count": 20,
   "metadata": {},
   "outputs": [],
   "source": [
    "import pandas as pd"
   ]
  },
  {
   "cell_type": "code",
   "execution_count": 21,
   "metadata": {},
   "outputs": [],
   "source": [
    "data = pd.read_excel('../dataset/Quantathon_Data_2025.xlsx')"
   ]
  },
  {
   "cell_type": "code",
   "execution_count": 22,
   "metadata": {},
   "outputs": [],
   "source": [
    "data = data.drop(index=data.index[:6])"
   ]
  },
  {
   "cell_type": "code",
   "execution_count": 23,
   "metadata": {},
   "outputs": [],
   "source": [
    "# First dataset: columns A, B, and C\n",
    "first_dataset = data.iloc[:, :3]\n",
    "\n",
    "# Second dataset: columns E, F, and G\n",
    "second_dataset = data.iloc[:, 4:7]\n"
   ]
  },
  {
   "cell_type": "code",
   "execution_count": 24,
   "metadata": {},
   "outputs": [
    {
     "data": {
      "application/vnd.microsoft.datawrangler.viewer.v0+json": {
       "columns": [
        {
         "name": "index",
         "rawType": "int64",
         "type": "integer"
        },
        {
         "name": "Date",
         "rawType": "object",
         "type": "unknown"
        },
        {
         "name": "S&P 500",
         "rawType": "object",
         "type": "unknown"
        },
        {
         "name": "Bond Rate",
         "rawType": "object",
         "type": "unknown"
        }
       ],
       "conversionMethod": "pd.DataFrame",
       "ref": "7193f6c3-6097-46a5-83e7-8c9940d08e77",
       "rows": [
        [
         "6",
         "2024-12-31 00:00:00",
         "5881.63",
         "4.208"
        ],
        [
         "7",
         "2024-12-30 00:00:00",
         "5906.94",
         "4.182"
        ],
        [
         "8",
         "2024-12-27 00:00:00",
         "5970.84",
         "4.178"
        ],
        [
         "9",
         "2024-12-26 00:00:00",
         "6037.59",
         "4.215"
        ],
        [
         "10",
         "2024-12-24 00:00:00",
         "6040.04",
         "4.2"
        ],
        [
         "11",
         "2024-12-23 00:00:00",
         "5974.07",
         "4.215"
        ],
        [
         "12",
         "2024-12-20 00:00:00",
         "5930.85",
         "4.215"
        ],
        [
         "13",
         "2024-12-19 00:00:00",
         "5867.08",
         "4.22"
        ],
        [
         "14",
         "2024-12-18 00:00:00",
         "5872.16",
         "4.232"
        ],
        [
         "15",
         "2024-12-17 00:00:00",
         "6050.61",
         "4.24"
        ],
        [
         "16",
         "2024-12-16 00:00:00",
         "6074.08",
         "4.228"
        ],
        [
         "17",
         "2024-12-13 00:00:00",
         "6051.09",
         "4.218"
        ],
        [
         "18",
         "2024-12-12 00:00:00",
         "6051.25",
         "4.223"
        ],
        [
         "19",
         "2024-12-11 00:00:00",
         "6084.19",
         "4.255"
        ],
        [
         "20",
         "2024-12-10 00:00:00",
         "6034.91",
         "4.285"
        ],
        [
         "21",
         "2024-12-09 00:00:00",
         "6052.85",
         "4.293"
        ],
        [
         "22",
         "2024-12-06 00:00:00",
         "6090.27",
         "4.295"
        ],
        [
         "23",
         "2024-12-05 00:00:00",
         "6075.11",
         "4.33"
        ],
        [
         "24",
         "2024-12-04 00:00:00",
         "6086.49",
         "4.345"
        ],
        [
         "25",
         "2024-12-03 00:00:00",
         "6049.88",
         "4.357"
        ],
        [
         "26",
         "2024-12-02 00:00:00",
         "6047.15",
         "4.38"
        ],
        [
         "27",
         "2024-11-29 00:00:00",
         "6032.38",
         "4.373"
        ],
        [
         "28",
         "2024-11-27 00:00:00",
         "5998.74",
         "4.385"
        ],
        [
         "29",
         "2024-11-26 00:00:00",
         "6021.63",
         "4.395"
        ],
        [
         "30",
         "2024-11-25 00:00:00",
         "5987.37",
         "4.405"
        ],
        [
         "31",
         "2024-11-22 00:00:00",
         "5969.34",
         "4.415"
        ],
        [
         "32",
         "2024-11-21 00:00:00",
         "5948.71",
         "4.413"
        ],
        [
         "33",
         "2024-11-20 00:00:00",
         "5917.11",
         "4.41"
        ],
        [
         "34",
         "2024-11-19 00:00:00",
         "5916.98",
         "4.408"
        ],
        [
         "35",
         "2024-11-18 00:00:00",
         "5893.62",
         "4.403"
        ],
        [
         "36",
         "2024-11-15 00:00:00",
         "5870.62",
         "4.393"
        ],
        [
         "37",
         "2024-11-14 00:00:00",
         "5949.17",
         "4.383"
        ],
        [
         "38",
         "2024-11-13 00:00:00",
         "5985.38",
         "4.39"
        ],
        [
         "39",
         "2024-11-12 00:00:00",
         "5983.99",
         "4.423"
        ],
        [
         "40",
         "2024-11-11 00:00:00",
         "6001.35",
         "4.415"
        ],
        [
         "41",
         "2024-11-08 00:00:00",
         "5995.54",
         "4.423"
        ],
        [
         "42",
         "2024-11-07 00:00:00",
         "5973.1",
         "4.42"
        ],
        [
         "43",
         "2024-11-06 00:00:00",
         "5929.04",
         "4.43"
        ],
        [
         "44",
         "2024-11-05 00:00:00",
         "5782.76",
         "4.423"
        ],
        [
         "45",
         "2024-11-04 00:00:00",
         "5712.69",
         "4.418"
        ],
        [
         "46",
         "2024-11-01 00:00:00",
         "5728.8",
         "4.4"
        ],
        [
         "47",
         "2024-10-31 00:00:00",
         "5705.45",
         "4.432"
        ],
        [
         "48",
         "2024-10-30 00:00:00",
         "5813.67",
         "4.463"
        ],
        [
         "49",
         "2024-10-29 00:00:00",
         "5832.92",
         "4.48"
        ],
        [
         "50",
         "2024-10-28 00:00:00",
         "5823.52",
         "4.482"
        ],
        [
         "51",
         "2024-10-25 00:00:00",
         "5808.12",
         "4.51"
        ],
        [
         "52",
         "2024-10-24 00:00:00",
         "5809.86",
         "4.487"
        ],
        [
         "53",
         "2024-10-23 00:00:00",
         "5797.42",
         "4.505"
        ],
        [
         "54",
         "2024-10-22 00:00:00",
         "5851.2",
         "4.5"
        ],
        [
         "55",
         "2024-10-21 00:00:00",
         "5853.98",
         "4.518"
        ]
       ],
       "shape": {
        "columns": 3,
        "rows": 4527
       }
      },
      "text/html": [
       "<div>\n",
       "<style scoped>\n",
       "    .dataframe tbody tr th:only-of-type {\n",
       "        vertical-align: middle;\n",
       "    }\n",
       "\n",
       "    .dataframe tbody tr th {\n",
       "        vertical-align: top;\n",
       "    }\n",
       "\n",
       "    .dataframe thead th {\n",
       "        text-align: right;\n",
       "    }\n",
       "</style>\n",
       "<table border=\"1\" class=\"dataframe\">\n",
       "  <thead>\n",
       "    <tr style=\"text-align: right;\">\n",
       "      <th></th>\n",
       "      <th>Date</th>\n",
       "      <th>S&amp;P 500</th>\n",
       "      <th>Bond Rate</th>\n",
       "    </tr>\n",
       "  </thead>\n",
       "  <tbody>\n",
       "    <tr>\n",
       "      <th>6</th>\n",
       "      <td>2024-12-31 00:00:00</td>\n",
       "      <td>5881.63</td>\n",
       "      <td>4.208</td>\n",
       "    </tr>\n",
       "    <tr>\n",
       "      <th>7</th>\n",
       "      <td>2024-12-30 00:00:00</td>\n",
       "      <td>5906.94</td>\n",
       "      <td>4.182</td>\n",
       "    </tr>\n",
       "    <tr>\n",
       "      <th>8</th>\n",
       "      <td>2024-12-27 00:00:00</td>\n",
       "      <td>5970.84</td>\n",
       "      <td>4.178</td>\n",
       "    </tr>\n",
       "    <tr>\n",
       "      <th>9</th>\n",
       "      <td>2024-12-26 00:00:00</td>\n",
       "      <td>6037.59</td>\n",
       "      <td>4.215</td>\n",
       "    </tr>\n",
       "    <tr>\n",
       "      <th>10</th>\n",
       "      <td>2024-12-24 00:00:00</td>\n",
       "      <td>6040.04</td>\n",
       "      <td>4.2</td>\n",
       "    </tr>\n",
       "    <tr>\n",
       "      <th>...</th>\n",
       "      <td>...</td>\n",
       "      <td>...</td>\n",
       "      <td>...</td>\n",
       "    </tr>\n",
       "    <tr>\n",
       "      <th>4528</th>\n",
       "      <td>2007-01-12 00:00:00</td>\n",
       "      <td>1430.73</td>\n",
       "      <td>4.95</td>\n",
       "    </tr>\n",
       "    <tr>\n",
       "      <th>4529</th>\n",
       "      <td>2007-01-11 00:00:00</td>\n",
       "      <td>1423.82</td>\n",
       "      <td>4.945</td>\n",
       "    </tr>\n",
       "    <tr>\n",
       "      <th>4530</th>\n",
       "      <td>2007-01-10 00:00:00</td>\n",
       "      <td>1414.85</td>\n",
       "      <td>4.91</td>\n",
       "    </tr>\n",
       "    <tr>\n",
       "      <th>4531</th>\n",
       "      <td>2007-01-09 00:00:00</td>\n",
       "      <td>1412.11</td>\n",
       "      <td>4.91</td>\n",
       "    </tr>\n",
       "    <tr>\n",
       "      <th>4532</th>\n",
       "      <td>2007-01-08 00:00:00</td>\n",
       "      <td>1412.84</td>\n",
       "      <td>4.9</td>\n",
       "    </tr>\n",
       "  </tbody>\n",
       "</table>\n",
       "<p>4527 rows × 3 columns</p>\n",
       "</div>"
      ],
      "text/plain": [
       "                     Date  S&P 500 Bond Rate\n",
       "6     2024-12-31 00:00:00  5881.63     4.208\n",
       "7     2024-12-30 00:00:00  5906.94     4.182\n",
       "8     2024-12-27 00:00:00  5970.84     4.178\n",
       "9     2024-12-26 00:00:00  6037.59     4.215\n",
       "10    2024-12-24 00:00:00  6040.04       4.2\n",
       "...                   ...      ...       ...\n",
       "4528  2007-01-12 00:00:00  1430.73      4.95\n",
       "4529  2007-01-11 00:00:00  1423.82     4.945\n",
       "4530  2007-01-10 00:00:00  1414.85      4.91\n",
       "4531  2007-01-09 00:00:00  1412.11      4.91\n",
       "4532  2007-01-08 00:00:00  1412.84       4.9\n",
       "\n",
       "[4527 rows x 3 columns]"
      ]
     },
     "execution_count": 24,
     "metadata": {},
     "output_type": "execute_result"
    }
   ],
   "source": [
    "first_dataset.columns = ['Date', 'S&P 500', 'Bond Rate']\n",
    "first_dataset"
   ]
  },
  {
   "cell_type": "code",
   "execution_count": 25,
   "metadata": {},
   "outputs": [
    {
     "data": {
      "application/vnd.microsoft.datawrangler.viewer.v0+json": {
       "columns": [
        {
         "name": "index",
         "rawType": "int64",
         "type": "integer"
        },
        {
         "name": "Date",
         "rawType": "object",
         "type": "unknown"
        },
        {
         "name": "PrDec",
         "rawType": "object",
         "type": "unknown"
        },
        {
         "name": "PrInc",
         "rawType": "object",
         "type": "unknown"
        }
       ],
       "conversionMethod": "pd.DataFrame",
       "ref": "c2127039-4ae2-4d20-a73b-66f9f854cc32",
       "rows": [
        [
         "6",
         "2024-12-31 00:00:00",
         "0.082",
         "0.10128"
        ],
        [
         "7",
         "2024-12-24 00:00:00",
         "0.0778",
         "0.09324"
        ],
        [
         "8",
         "2024-12-18 00:00:00",
         "0.08909",
         "0.14135"
        ],
        [
         "9",
         "2024-12-11 00:00:00",
         "0.07816",
         "0.10151"
        ],
        [
         "10",
         "2024-12-04 00:00:00",
         "0.07441",
         "0.09571"
        ],
        [
         "11",
         "2024-11-27 00:00:00",
         "0.076",
         "0.09907"
        ],
        [
         "12",
         "2024-11-20 00:00:00",
         "0.08193",
         "0.10528"
        ],
        [
         "13",
         "2024-11-13 00:00:00",
         "0.07828",
         "0.10427"
        ],
        [
         "14",
         "2024-11-06 00:00:00",
         "0.07532",
         "0.09286"
        ],
        [
         "15",
         "2024-10-30 00:00:00",
         "0.08318",
         "0.11008"
        ],
        [
         "16",
         "2024-10-23 00:00:00",
         "0.0803",
         "0.09896"
        ],
        [
         "17",
         "2024-10-16 00:00:00",
         "0.08413",
         "0.10571"
        ],
        [
         "18",
         "2024-10-09 00:00:00",
         "0.08385",
         "0.1024"
        ],
        [
         "19",
         "2024-10-02 00:00:00",
         "0.09092",
         "0.10573"
        ],
        [
         "20",
         "2024-09-25 00:00:00",
         "0.08223",
         "0.09151"
        ],
        [
         "21",
         "2024-09-18 00:00:00",
         "0.08857",
         "0.10942"
        ],
        [
         "22",
         "2024-09-11 00:00:00",
         "0.09023",
         "0.09746"
        ],
        [
         "23",
         "2024-09-04 00:00:00",
         "0.08882",
         "0.11128"
        ],
        [
         "24",
         "2024-08-28 00:00:00",
         "0.07926",
         "0.09721"
        ],
        [
         "25",
         "2024-08-21 00:00:00",
         "0.08198",
         "0.09758"
        ],
        [
         "26",
         "2024-08-14 00:00:00",
         "0.08979",
         "0.10782"
        ],
        [
         "27",
         "2024-08-07 00:00:00",
         "0.10312",
         "0.15385"
        ],
        [
         "28",
         "2024-07-31 00:00:00",
         "0.07261",
         "0.10882"
        ],
        [
         "29",
         "2024-07-24 00:00:00",
         "0.07833",
         "0.1243"
        ],
        [
         "30",
         "2024-07-17 00:00:00",
         "0.07226",
         "0.11029"
        ],
        [
         "31",
         "2024-07-10 00:00:00",
         "0.06612",
         "0.09349"
        ],
        [
         "32",
         "2024-07-03 00:00:00",
         "0.06442",
         "0.09082"
        ],
        [
         "33",
         "2024-06-26 00:00:00",
         "0.06833",
         "0.10407"
        ],
        [
         "34",
         "2024-06-18 00:00:00",
         "0.06669",
         "0.10104"
        ],
        [
         "35",
         "2024-06-12 00:00:00",
         "0.06492",
         "0.09994"
        ],
        [
         "36",
         "2024-06-05 00:00:00",
         "0.06716",
         "0.0987"
        ],
        [
         "37",
         "2024-05-29 00:00:00",
         "0.06761",
         "0.10391"
        ],
        [
         "38",
         "2024-05-22 00:00:00",
         "0.06821",
         "0.10517"
        ],
        [
         "39",
         "2024-05-15 00:00:00",
         "0.06914",
         "0.10101"
        ],
        [
         "40",
         "2024-05-08 00:00:00",
         "0.06832",
         "0.10483"
        ],
        [
         "41",
         "2024-05-01 00:00:00",
         "0.07611",
         "0.1233"
        ],
        [
         "42",
         "2024-04-24 00:00:00",
         "0.07548",
         "0.11859"
        ],
        [
         "43",
         "2024-04-17 00:00:00",
         "0.08447",
         "0.14179"
        ],
        [
         "44",
         "2024-04-10 00:00:00",
         "0.08029",
         "0.12799"
        ],
        [
         "45",
         "2024-04-03 00:00:00",
         "0.07352",
         "0.1165"
        ],
        [
         "46",
         "2024-03-27 00:00:00",
         "0.0704",
         "0.10889"
        ],
        [
         "47",
         "2024-03-20 00:00:00",
         "0.07311",
         "0.11267"
        ],
        [
         "48",
         "2024-03-13 00:00:00",
         "0.07359",
         "0.11568"
        ],
        [
         "49",
         "2024-03-06 00:00:00",
         "0.07281",
         "0.10885"
        ],
        [
         "50",
         "2024-02-28 00:00:00",
         "0.07193",
         "0.10658"
        ],
        [
         "51",
         "2024-02-21 00:00:00",
         "0.07647",
         "0.10775"
        ],
        [
         "52",
         "2024-02-14 00:00:00",
         "0.07381",
         "0.09914"
        ],
        [
         "53",
         "2024-02-07 00:00:00",
         "0.06604",
         "0.08976"
        ],
        [
         "54",
         "2024-01-31 00:00:00",
         "0.07448",
         "0.10453"
        ],
        [
         "55",
         "2024-01-24 00:00:00",
         "0.06924",
         "0.09391"
        ]
       ],
       "shape": {
        "columns": 3,
        "rows": 4527
       }
      },
      "text/html": [
       "<div>\n",
       "<style scoped>\n",
       "    .dataframe tbody tr th:only-of-type {\n",
       "        vertical-align: middle;\n",
       "    }\n",
       "\n",
       "    .dataframe tbody tr th {\n",
       "        vertical-align: top;\n",
       "    }\n",
       "\n",
       "    .dataframe thead th {\n",
       "        text-align: right;\n",
       "    }\n",
       "</style>\n",
       "<table border=\"1\" class=\"dataframe\">\n",
       "  <thead>\n",
       "    <tr style=\"text-align: right;\">\n",
       "      <th></th>\n",
       "      <th>Date</th>\n",
       "      <th>PrDec</th>\n",
       "      <th>PrInc</th>\n",
       "    </tr>\n",
       "  </thead>\n",
       "  <tbody>\n",
       "    <tr>\n",
       "      <th>6</th>\n",
       "      <td>2024-12-31 00:00:00</td>\n",
       "      <td>0.082</td>\n",
       "      <td>0.10128</td>\n",
       "    </tr>\n",
       "    <tr>\n",
       "      <th>7</th>\n",
       "      <td>2024-12-24 00:00:00</td>\n",
       "      <td>0.0778</td>\n",
       "      <td>0.09324</td>\n",
       "    </tr>\n",
       "    <tr>\n",
       "      <th>8</th>\n",
       "      <td>2024-12-18 00:00:00</td>\n",
       "      <td>0.08909</td>\n",
       "      <td>0.14135</td>\n",
       "    </tr>\n",
       "    <tr>\n",
       "      <th>9</th>\n",
       "      <td>2024-12-11 00:00:00</td>\n",
       "      <td>0.07816</td>\n",
       "      <td>0.10151</td>\n",
       "    </tr>\n",
       "    <tr>\n",
       "      <th>10</th>\n",
       "      <td>2024-12-04 00:00:00</td>\n",
       "      <td>0.07441</td>\n",
       "      <td>0.09571</td>\n",
       "    </tr>\n",
       "    <tr>\n",
       "      <th>...</th>\n",
       "      <td>...</td>\n",
       "      <td>...</td>\n",
       "      <td>...</td>\n",
       "    </tr>\n",
       "    <tr>\n",
       "      <th>4528</th>\n",
       "      <td>NaN</td>\n",
       "      <td>NaN</td>\n",
       "      <td>NaN</td>\n",
       "    </tr>\n",
       "    <tr>\n",
       "      <th>4529</th>\n",
       "      <td>NaN</td>\n",
       "      <td>NaN</td>\n",
       "      <td>NaN</td>\n",
       "    </tr>\n",
       "    <tr>\n",
       "      <th>4530</th>\n",
       "      <td>NaN</td>\n",
       "      <td>NaN</td>\n",
       "      <td>NaN</td>\n",
       "    </tr>\n",
       "    <tr>\n",
       "      <th>4531</th>\n",
       "      <td>NaN</td>\n",
       "      <td>NaN</td>\n",
       "      <td>NaN</td>\n",
       "    </tr>\n",
       "    <tr>\n",
       "      <th>4532</th>\n",
       "      <td>NaN</td>\n",
       "      <td>NaN</td>\n",
       "      <td>NaN</td>\n",
       "    </tr>\n",
       "  </tbody>\n",
       "</table>\n",
       "<p>4527 rows × 3 columns</p>\n",
       "</div>"
      ],
      "text/plain": [
       "                     Date    PrDec    PrInc\n",
       "6     2024-12-31 00:00:00    0.082  0.10128\n",
       "7     2024-12-24 00:00:00   0.0778  0.09324\n",
       "8     2024-12-18 00:00:00  0.08909  0.14135\n",
       "9     2024-12-11 00:00:00  0.07816  0.10151\n",
       "10    2024-12-04 00:00:00  0.07441  0.09571\n",
       "...                   ...      ...      ...\n",
       "4528                  NaN      NaN      NaN\n",
       "4529                  NaN      NaN      NaN\n",
       "4530                  NaN      NaN      NaN\n",
       "4531                  NaN      NaN      NaN\n",
       "4532                  NaN      NaN      NaN\n",
       "\n",
       "[4527 rows x 3 columns]"
      ]
     },
     "execution_count": 25,
     "metadata": {},
     "output_type": "execute_result"
    }
   ],
   "source": [
    "second_dataset.columns = ['Date', 'PrDec', 'PrInc']\n",
    "second_dataset"
   ]
  },
  {
   "cell_type": "code",
   "execution_count": 26,
   "metadata": {},
   "outputs": [],
   "source": [
    "merged_dataset = pd.merge(first_dataset, second_dataset, on='Date', how='outer').dropna(how='all').sort_values(by='Date')"
   ]
  },
  {
   "cell_type": "code",
   "execution_count": 27,
   "metadata": {},
   "outputs": [],
   "source": [
    "merged_dataset['PrDec'] = merged_dataset['PrDec'].infer_objects(copy=False).ffill().bfill()\n",
    "merged_dataset['PrInc'] = merged_dataset['PrInc'].infer_objects(copy=False).ffill().bfill()\n",
    "merged_dataset.to_csv('../dataset/Quantathon_Data_2025.csv', index=False)"
   ]
  },
  {
   "cell_type": "code",
   "execution_count": 39,
   "metadata": {},
   "outputs": [
    {
     "name": "stdout",
     "output_type": "stream",
     "text": [
      "Mean Squared Error: 6078269.915732836\n",
      "R^2 Score: -7.147209922059302\n",
      "           Date  S&P 500       Action\n",
      "6809 2019-01-02  2510.03         Hold\n",
      "6810 2019-01-03  2447.89  Stop Buying\n",
      "6811 2019-01-04  2531.94          Buy\n",
      "6812 2019-01-07  2549.69  Stop Buying\n",
      "6813 2019-01-08  2574.41          Buy\n",
      "...         ...      ...          ...\n",
      "8314 2024-12-24  6040.04          Buy\n",
      "8315 2024-12-26  6037.59          Buy\n",
      "8316 2024-12-27  5970.84  Stop Buying\n",
      "8317 2024-12-30  5906.94          Buy\n",
      "8318 2024-12-31  5881.63  Stop Buying\n",
      "\n",
      "[1510 rows x 3 columns]\n"
     ]
    },
    {
     "name": "stderr",
     "output_type": "stream",
     "text": [
      "C:\\Users\\Farhan\\AppData\\Local\\Temp\\ipykernel_28940\\720563427.py:50: SettingWithCopyWarning: \n",
      "A value is trying to be set on a copy of a slice from a DataFrame.\n",
      "Try using .loc[row_indexer,col_indexer] = value instead\n",
      "\n",
      "See the caveats in the documentation: https://pandas.pydata.org/pandas-docs/stable/user_guide/indexing.html#returning-a-view-versus-a-copy\n",
      "  test_data['Action'] = actions\n"
     ]
    }
   ],
   "source": [
    "from sklearn.linear_model import LinearRegression\n",
    "from sklearn.metrics import mean_squared_error, r2_score\n",
    "from sklearn.impute import SimpleImputer\n",
    "\n",
    "# Filter the data up to 2018\n",
    "train_data = merged_dataset[merged_dataset['Date'] <= '2018-12-31']\n",
    "test_data = merged_dataset[merged_dataset['Date'] > '2018-12-31']\n",
    "\n",
    "# Prepare the training and test data\n",
    "X_train = train_data[['Bond Rate', 'PrDec', 'PrInc']].values\n",
    "y_train = train_data['S&P 500'].values\n",
    "X_test = test_data[['Bond Rate', 'PrDec', 'PrInc']].values\n",
    "y_test = test_data['S&P 500'].values\n",
    "\n",
    "# Impute missing values\n",
    "imputer = SimpleImputer(strategy='mean')\n",
    "X_train = imputer.fit_transform(X_train)\n",
    "X_test = imputer.transform(X_test)\n",
    "y_train = imputer.fit_transform(y_train.reshape(-1, 1)).ravel()\n",
    "y_test = imputer.transform(y_test.reshape(-1, 1)).ravel()\n",
    "\n",
    "# Define the model\n",
    "model = LinearRegression()\n",
    "\n",
    "# Fit the model on the training data\n",
    "model.fit(X_train, y_train)\n",
    "\n",
    "# Make predictions on the test data\n",
    "predictions = model.predict(X_test)\n",
    "\n",
    "# Evaluate the model\n",
    "mse = mean_squared_error(y_test, predictions)\n",
    "r2 = r2_score(y_test, predictions)\n",
    "\n",
    "print(f\"Mean Squared Error: {mse}\")\n",
    "print(f\"R^2 Score: {r2}\")\n",
    "\n",
    "# Determine buy or stop buying based on predictions\n",
    "actions = []\n",
    "for i in range(1, len(predictions)):\n",
    "    if predictions[i] > predictions[i - 1]:\n",
    "        actions.append('Buy')\n",
    "    else:\n",
    "        actions.append('Stop Buying')\n",
    "\n",
    "# Add the first action as 'Hold' since we don't have a previous prediction to compare\n",
    "actions.insert(0, 'Hold')\n",
    "\n",
    "# Add the actions to the test_data dataframe\n",
    "test_data['Action'] = actions\n",
    "\n",
    "print(test_data[['Date', 'S&P 500', 'Action']])"
   ]
  }
 ],
 "metadata": {
  "kernelspec": {
   "display_name": "Python 3",
   "language": "python",
   "name": "python3"
  },
  "language_info": {
   "codemirror_mode": {
    "name": "ipython",
    "version": 3
   },
   "file_extension": ".py",
   "mimetype": "text/x-python",
   "name": "python",
   "nbconvert_exporter": "python",
   "pygments_lexer": "ipython3",
   "version": "3.11.0"
  }
 },
 "nbformat": 4,
 "nbformat_minor": 2
}
